{
 "cells": [
  {
   "cell_type": "code",
   "execution_count": 1,
   "id": "bfbcdc44",
   "metadata": {},
   "outputs": [],
   "source": [
    "import sys\n",
    "sys.path.append('../')"
   ]
  },
  {
   "cell_type": "code",
   "execution_count": 2,
   "id": "650700b3",
   "metadata": {},
   "outputs": [
    {
     "name": "stdout",
     "output_type": "stream",
     "text": [
      "Loading waypoint type: center\n"
     ]
    },
    {
     "name": "stderr",
     "output_type": "stream",
     "text": [
      "/Users/at/Desktop/project/f1tenth/f1tenth_graph/notebook/../f1tenth_gym/base_classes.py:93: UserWarning: Chosen integrator is RK4. This is different from previous versions of the gym.\n",
      "  warnings.warn(f\"Chosen integrator is RK4. This is different from previous versions of the gym.\")\n"
     ]
    }
   ],
   "source": [
    "from f1tenth_gym.f110_env import F110Env\n",
    "from src.envs.wrapper import F110Wrapper\n",
    "from f1tenth_gym.maps.map_manager import MapManager, MAP_DICT\n",
    "\n",
    "map_name = 'Austin'\n",
    "map_ext = '.png'\n",
    "speed = 8.0\n",
    "downsample = 1\n",
    "use_dynamic_speed = True\n",
    "a_lat_max = 3\n",
    "smooth_sigma = 2\n",
    "\n",
    "map_manager = MapManager(\n",
    "    map_name=map_name,\n",
    "    map_ext=map_ext,\n",
    "    speed=speed,\n",
    "    downsample=downsample,\n",
    "    use_dynamic_speed=use_dynamic_speed,\n",
    "    a_lat_max=a_lat_max,\n",
    "    smooth_sigma=smooth_sigma\n",
    ")\n",
    "\n",
    "vehicle_param = {\n",
    "    'mu': 1.0489,\n",
    "    'C_Sf': 4.718,\n",
    "    'C_Sr': 5.4562,\n",
    "    'lf': 0.15875,\n",
    "    'lr': 0.17145,\n",
    "    'h': 0.074,\n",
    "    'm': 3.74,\n",
    "    'I': 0.04712,\n",
    "    's_min': -0.4,\n",
    "    's_max': 0.4,\n",
    "    'sv_min': -3.2,\n",
    "    'sv_max': 3.2,\n",
    "    'v_switch': 7.319,\n",
    "    'a_max': 9.51,\n",
    "    'v_min': -5.0,\n",
    "    'v_max': 10.0,\n",
    "    'width': 0.31,\n",
    "    'length': 0.58\n",
    "}\n",
    "\n",
    "num_beams = 1080\n",
    "num_agents = 1\n",
    "## 公式のベース環境\n",
    "env = F110Env(map=map_manager.map_path, map_ext=map_ext, num_beams=num_beams, num_agents=num_agents, params=vehicle_param)\n",
    "## 自作のラッパー\n",
    "env = F110Wrapper(env, map_manager=map_manager)"
   ]
  },
  {
   "cell_type": "code",
   "execution_count": 4,
   "id": "540a82ce",
   "metadata": {},
   "outputs": [],
   "source": [
    "from src.planner.purePursuit import PurePursuitPlanner\n",
    "wheelbase = 0.33\n",
    "lookahead = 0.6\n",
    "gain = 0.2\n",
    "max_reacquire = 20.0\n",
    "\n",
    "planner = PurePursuitPlanner(\n",
    "    wheelbase=wheelbase,\n",
    "    map_manager=map_manager,\n",
    "    lookahead=lookahead,\n",
    "    gain=gain,\n",
    "    max_reacquire=max_reacquire\n",
    ")"
   ]
  },
  {
   "cell_type": "code",
   "execution_count": null,
   "id": "a8e321b0",
   "metadata": {},
   "outputs": [
    {
     "ename": "NameError",
     "evalue": "name 'Austin_' is not defined",
     "output_type": "error",
     "traceback": [
      "\u001b[31m---------------------------------------------------------------------------\u001b[39m",
      "\u001b[31mNameError\u001b[39m                                 Traceback (most recent call last)",
      "\u001b[36mCell\u001b[39m\u001b[36m \u001b[39m\u001b[32mIn[5]\u001b[39m\u001b[32m, line 9\u001b[39m\n\u001b[32m      7\u001b[39m max_steps = \u001b[32m3000\u001b[39m\n\u001b[32m      8\u001b[39m \u001b[38;5;28;01mfor\u001b[39;00m i \u001b[38;5;129;01min\u001b[39;00m \u001b[38;5;28mrange\u001b[39m(\u001b[38;5;28mlen\u001b[39m(MAP_DICT)):\n\u001b[32m----> \u001b[39m\u001b[32m9\u001b[39m     \u001b[38;5;28mmap\u001b[39m = \u001b[43mAustin_\u001b[49m\n\u001b[32m     10\u001b[39m     env.update_map(map_name=\u001b[38;5;28mmap\u001b[39m, map_ext=map_ext)\n\u001b[32m     11\u001b[39m     obs, info = env.reset()\n",
      "\u001b[31mNameError\u001b[39m: name 'Austin_' is not defined"
     ]
    }
   ],
   "source": [
    "import numpy as np\n",
    "from src.utils.graph import lidar_to_graph\n",
    "import matplotlib.pyplot as plt\n",
    "import networkx as nx\n",
    "from IPython.display import clear_output\n",
    "import time\n",
    "max_steps = 3000\n",
    "\n",
    "obs, info = env.reset()\n",
    "done = False\n",
    "\n",
    "for step in range(max_steps):\n",
    "    actions = []\n",
    "    for agent_id in range(num_agents):\n",
    "        steer, speed = planner.plan(obs, id=agent_id)\n",
    "        action = [steer, speed]\n",
    "        actions.append(action)\n",
    "\n",
    "    # グラフの生成\n",
    "    start = time.time()\n",
    "    G = lidar_to_graph(scan_data=obs['scans'][0], max_distance=1.0)\n",
    "    print(f\"Graph generation time: {time.time() - start:.4f} seconds\")\n",
    "\n",
    "    # プロットのクリア & 再描画\n",
    "    # plt.figure(figsize=(8, 6))\n",
    "    # pos = nx.get_node_attributes(G, 'pos')\n",
    "    # nx.draw(G, pos, node_size=5, edge_color='lightgray')\n",
    "    \n",
    "    # # 表示の更新\n",
    "    # clear_output(wait=True)\n",
    "    # plt.show()\n",
    "    \n",
    "    next_obs, reward, terminated, truncated, info = env.step(np.array(actions))\n",
    "    \n",
    "    if terminated or truncated:\n",
    "        print(f\"Episode finished after {step + 1} timesteps\")\n",
    "        break\n",
    "\n",
    "    obs = next_obs\n"
   ]
  },
  {
   "cell_type": "code",
   "execution_count": null,
   "id": "952e0279",
   "metadata": {},
   "outputs": [],
   "source": []
  }
 ],
 "metadata": {
  "kernelspec": {
   "display_name": "env",
   "language": "python",
   "name": "python3"
  },
  "language_info": {
   "codemirror_mode": {
    "name": "ipython",
    "version": 3
   },
   "file_extension": ".py",
   "mimetype": "text/x-python",
   "name": "python",
   "nbconvert_exporter": "python",
   "pygments_lexer": "ipython3",
   "version": "3.11.10"
  }
 },
 "nbformat": 4,
 "nbformat_minor": 5
}
